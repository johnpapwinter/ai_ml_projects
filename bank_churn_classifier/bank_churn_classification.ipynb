{
 "cells": [
  {
   "cell_type": "code",
   "execution_count": 1,
   "id": "initial_id",
   "metadata": {
    "collapsed": true,
    "ExecuteTime": {
     "end_time": "2024-04-04T11:11:39.666787Z",
     "start_time": "2024-04-04T11:11:35.926297Z"
    }
   },
   "outputs": [],
   "source": [
    "import pandas as pd\n",
    "\n",
    "from imblearn.over_sampling import SMOTE\n",
    "from sklearn.model_selection import train_test_split\n",
    "from sklearn.preprocessing import MinMaxScaler\n",
    "\n",
    "from data_preprocessing_pipeline import DataPreprocessingPipeline\n",
    "from bank_churn_classifier import BankChurnClassifier\n",
    "\n",
    "from utils import *"
   ]
  },
  {
   "cell_type": "code",
   "outputs": [],
   "source": [
    "dataset = pd.read_csv(\"C:\\\\Users\\\\johnp\\\\PycharmProjects\\\\scientificProject\\\\data\\\\bank_churn_train.csv\")\n",
    "\n",
    "columns_to_drop = ['id', 'CustomerId', 'Surname']\n",
    "categorical_columns = ['Gender', 'Geography']\n",
    "\n",
    "data_preprocessing_pipeline = DataPreprocessingPipeline(columns_to_drop=columns_to_drop, categorical_columns=categorical_columns)\n",
    "classifier = BankChurnClassifier()\n",
    "\n",
    "smote = SMOTE(sampling_strategy='minority')\n",
    "scaler = MinMaxScaler()"
   ],
   "metadata": {
    "collapsed": false,
    "ExecuteTime": {
     "end_time": "2024-04-04T11:11:39.942905Z",
     "start_time": "2024-04-04T11:11:39.667795Z"
    }
   },
   "id": "34dc33afc26d0798",
   "execution_count": 2
  },
  {
   "cell_type": "code",
   "outputs": [],
   "source": [
    "dataset = data_preprocessing_pipeline.preprocess_data(dataset)\n",
    "\n",
    "X = dataset.drop(columns=['Exited'])\n",
    "y = dataset['Exited']\n",
    "\n",
    "X, y = smote.fit_resample(X, y)\n",
    "X = scaler.fit_transform(X)\n",
    "\n",
    "X_train, X_test, y_train, y_test = train_test_split(X, y, test_size=0.1, random_state=42)"
   ],
   "metadata": {
    "collapsed": false
   },
   "id": "18df9b3d6a5f9728",
   "execution_count": null
  },
  {
   "cell_type": "code",
   "outputs": [
    {
     "name": "stdout",
     "output_type": "stream",
     "text": [
      "[2024-04-04 14:11:40,724 : INFO : Starting model training]\n",
      "Epoch 1/30\n",
      "\u001B[1m6587/6587\u001B[0m \u001B[32m━━━━━━━━━━━━━━━━━━━━\u001B[0m\u001B[37m\u001B[0m \u001B[1m10s\u001B[0m 1ms/step - accuracy: 0.8694 - loss: 0.2996 - val_accuracy: 0.8903 - val_loss: 0.2522\n",
      "Epoch 2/30\n",
      "\u001B[1m6587/6587\u001B[0m \u001B[32m━━━━━━━━━━━━━━━━━━━━\u001B[0m\u001B[37m\u001B[0m \u001B[1m8s\u001B[0m 1ms/step - accuracy: 0.8911 - loss: 0.2550 - val_accuracy: 0.8971 - val_loss: 0.2494\n",
      "Epoch 3/30\n",
      "\u001B[1m6587/6587\u001B[0m \u001B[32m━━━━━━━━━━━━━━━━━━━━\u001B[0m\u001B[37m\u001B[0m \u001B[1m8s\u001B[0m 1ms/step - accuracy: 0.8951 - loss: 0.2451 - val_accuracy: 0.9004 - val_loss: 0.2375\n",
      "Epoch 4/30\n",
      "\u001B[1m6587/6587\u001B[0m \u001B[32m━━━━━━━━━━━━━━━━━━━━\u001B[0m\u001B[37m\u001B[0m \u001B[1m8s\u001B[0m 1ms/step - accuracy: 0.8971 - loss: 0.2401 - val_accuracy: 0.9012 - val_loss: 0.2372\n",
      "Epoch 5/30\n",
      "\u001B[1m6587/6587\u001B[0m \u001B[32m━━━━━━━━━━━━━━━━━━━━\u001B[0m\u001B[37m\u001B[0m \u001B[1m8s\u001B[0m 1ms/step - accuracy: 0.9000 - loss: 0.2357 - val_accuracy: 0.9012 - val_loss: 0.2353\n",
      "Epoch 6/30\n",
      "\u001B[1m6587/6587\u001B[0m \u001B[32m━━━━━━━━━━━━━━━━━━━━\u001B[0m\u001B[37m\u001B[0m \u001B[1m8s\u001B[0m 1ms/step - accuracy: 0.8996 - loss: 0.2360 - val_accuracy: 0.9009 - val_loss: 0.2366\n",
      "Epoch 7/30\n",
      "\u001B[1m6587/6587\u001B[0m \u001B[32m━━━━━━━━━━━━━━━━━━━━\u001B[0m\u001B[37m\u001B[0m \u001B[1m8s\u001B[0m 1ms/step - accuracy: 0.8982 - loss: 0.2367 - val_accuracy: 0.9016 - val_loss: 0.2337\n",
      "Epoch 8/30\n",
      "\u001B[1m6587/6587\u001B[0m \u001B[32m━━━━━━━━━━━━━━━━━━━━\u001B[0m\u001B[37m\u001B[0m \u001B[1m8s\u001B[0m 1ms/step - accuracy: 0.9007 - loss: 0.2336 - val_accuracy: 0.9020 - val_loss: 0.2353\n",
      "Epoch 9/30\n",
      "\u001B[1m6587/6587\u001B[0m \u001B[32m━━━━━━━━━━━━━━━━━━━━\u001B[0m\u001B[37m\u001B[0m \u001B[1m8s\u001B[0m 1ms/step - accuracy: 0.9009 - loss: 0.2320 - val_accuracy: 0.9021 - val_loss: 0.2345\n",
      "Epoch 10/30\n",
      "\u001B[1m6587/6587\u001B[0m \u001B[32m━━━━━━━━━━━━━━━━━━━━\u001B[0m\u001B[37m\u001B[0m \u001B[1m8s\u001B[0m 1ms/step - accuracy: 0.9003 - loss: 0.2327 - val_accuracy: 0.9027 - val_loss: 0.2327\n",
      "Epoch 11/30\n",
      "\u001B[1m6587/6587\u001B[0m \u001B[32m━━━━━━━━━━━━━━━━━━━━\u001B[0m\u001B[37m\u001B[0m \u001B[1m8s\u001B[0m 1ms/step - accuracy: 0.8996 - loss: 0.2331 - val_accuracy: 0.9020 - val_loss: 0.2318\n",
      "Epoch 12/30\n",
      "\u001B[1m6587/6587\u001B[0m \u001B[32m━━━━━━━━━━━━━━━━━━━━\u001B[0m\u001B[37m\u001B[0m \u001B[1m8s\u001B[0m 1ms/step - accuracy: 0.9010 - loss: 0.2316 - val_accuracy: 0.9021 - val_loss: 0.2303\n",
      "Epoch 13/30\n",
      "\u001B[1m6587/6587\u001B[0m \u001B[32m━━━━━━━━━━━━━━━━━━━━\u001B[0m\u001B[37m\u001B[0m \u001B[1m8s\u001B[0m 1ms/step - accuracy: 0.9018 - loss: 0.2314 - val_accuracy: 0.9030 - val_loss: 0.2304\n",
      "Epoch 14/30\n",
      "\u001B[1m6587/6587\u001B[0m \u001B[32m━━━━━━━━━━━━━━━━━━━━\u001B[0m\u001B[37m\u001B[0m \u001B[1m8s\u001B[0m 1ms/step - accuracy: 0.9017 - loss: 0.2303 - val_accuracy: 0.9029 - val_loss: 0.2309\n",
      "Epoch 15/30\n",
      "\u001B[1m6587/6587\u001B[0m \u001B[32m━━━━━━━━━━━━━━━━━━━━\u001B[0m\u001B[37m\u001B[0m \u001B[1m8s\u001B[0m 1ms/step - accuracy: 0.9002 - loss: 0.2333 - val_accuracy: 0.9032 - val_loss: 0.2296\n",
      "Epoch 16/30\n",
      "\u001B[1m6587/6587\u001B[0m \u001B[32m━━━━━━━━━━━━━━━━━━━━\u001B[0m\u001B[37m\u001B[0m \u001B[1m8s\u001B[0m 1ms/step - accuracy: 0.9031 - loss: 0.2294 - val_accuracy: 0.8882 - val_loss: 0.2631\n",
      "Epoch 17/30\n",
      "\u001B[1m6587/6587\u001B[0m \u001B[32m━━━━━━━━━━━━━━━━━━━━\u001B[0m\u001B[37m\u001B[0m \u001B[1m8s\u001B[0m 1ms/step - accuracy: 0.9010 - loss: 0.2305 - val_accuracy: 0.9032 - val_loss: 0.2318\n",
      "Epoch 18/30\n",
      "\u001B[1m6587/6587\u001B[0m \u001B[32m━━━━━━━━━━━━━━━━━━━━\u001B[0m\u001B[37m\u001B[0m \u001B[1m9s\u001B[0m 1ms/step - accuracy: 0.9030 - loss: 0.2287 - val_accuracy: 0.9048 - val_loss: 0.2281\n",
      "Epoch 19/30\n",
      "\u001B[1m6587/6587\u001B[0m \u001B[32m━━━━━━━━━━━━━━━━━━━━\u001B[0m\u001B[37m\u001B[0m \u001B[1m8s\u001B[0m 1ms/step - accuracy: 0.9014 - loss: 0.2318 - val_accuracy: 0.9015 - val_loss: 0.2297\n",
      "Epoch 20/30\n",
      "\u001B[1m6587/6587\u001B[0m \u001B[32m━━━━━━━━━━━━━━━━━━━━\u001B[0m\u001B[37m\u001B[0m \u001B[1m8s\u001B[0m 1ms/step - accuracy: 0.9023 - loss: 0.2303 - val_accuracy: 0.8643 - val_loss: 0.2897\n",
      "Epoch 21/30\n",
      "\u001B[1m6587/6587\u001B[0m \u001B[32m━━━━━━━━━━━━━━━━━━━━\u001B[0m\u001B[37m\u001B[0m \u001B[1m8s\u001B[0m 1ms/step - accuracy: 0.9030 - loss: 0.2291 - val_accuracy: 0.9031 - val_loss: 0.2310\n",
      "Epoch 22/30\n",
      "\u001B[1m6587/6587\u001B[0m \u001B[32m━━━━━━━━━━━━━━━━━━━━\u001B[0m\u001B[37m\u001B[0m \u001B[1m9s\u001B[0m 1ms/step - accuracy: 0.9008 - loss: 0.2306 - val_accuracy: 0.9018 - val_loss: 0.2292\n",
      "Epoch 23/30\n",
      "\u001B[1m6587/6587\u001B[0m \u001B[32m━━━━━━━━━━━━━━━━━━━━\u001B[0m\u001B[37m\u001B[0m \u001B[1m9s\u001B[0m 1ms/step - accuracy: 0.9036 - loss: 0.2275 - val_accuracy: 0.9010 - val_loss: 0.2312\n",
      "Epoch 24/30\n",
      "\u001B[1m6587/6587\u001B[0m \u001B[32m━━━━━━━━━━━━━━━━━━━━\u001B[0m\u001B[37m\u001B[0m \u001B[1m8s\u001B[0m 1ms/step - accuracy: 0.9026 - loss: 0.2283 - val_accuracy: 0.9037 - val_loss: 0.2287\n",
      "Epoch 25/30\n",
      "\u001B[1m6587/6587\u001B[0m \u001B[32m━━━━━━━━━━━━━━━━━━━━\u001B[0m\u001B[37m\u001B[0m \u001B[1m10s\u001B[0m 1ms/step - accuracy: 0.9021 - loss: 0.2285 - val_accuracy: 0.9032 - val_loss: 0.2287\n",
      "Epoch 26/30\n",
      "\u001B[1m6587/6587\u001B[0m \u001B[32m━━━━━━━━━━━━━━━━━━━━\u001B[0m\u001B[37m\u001B[0m \u001B[1m8s\u001B[0m 1ms/step - accuracy: 0.9018 - loss: 0.2307 - val_accuracy: 0.9020 - val_loss: 0.2298\n",
      "Epoch 27/30\n",
      "\u001B[1m6587/6587\u001B[0m \u001B[32m━━━━━━━━━━━━━━━━━━━━\u001B[0m\u001B[37m\u001B[0m \u001B[1m8s\u001B[0m 1ms/step - accuracy: 0.9033 - loss: 0.2269 - val_accuracy: 0.9039 - val_loss: 0.2296\n",
      "Epoch 28/30\n",
      "\u001B[1m6587/6587\u001B[0m \u001B[32m━━━━━━━━━━━━━━━━━━━━\u001B[0m\u001B[37m\u001B[0m \u001B[1m8s\u001B[0m 1ms/step - accuracy: 0.9023 - loss: 0.2279 - val_accuracy: 0.9030 - val_loss: 0.2300\n",
      "[2024-04-04 14:15:33,246 : INFO : Finished model training]\n",
      "\u001B[1m814/814\u001B[0m \u001B[32m━━━━━━━━━━━━━━━━━━━━\u001B[0m\u001B[37m\u001B[0m \u001B[1m1s\u001B[0m 835us/step - accuracy: 0.9058 - loss: 0.2184\n",
      "[2024-04-04 14:15:34,007 : INFO : Loss of model: 0.22178955376148224]\n",
      "[2024-04-04 14:15:34,008 : INFO : Accuracy of model: 0.9051992297172546]\n"
     ]
    },
    {
     "data": {
      "text/plain": "(0.22178955376148224, 0.9051992297172546)"
     },
     "execution_count": 4,
     "metadata": {},
     "output_type": "execute_result"
    }
   ],
   "source": [
    "classifier.train_model(X_train=X_train, \n",
    "                       y_train=y_train, \n",
    "                       epochs=30, \n",
    "                       batch_size=32,\n",
    "                       validation_split=0.1)\n",
    "\n",
    "classifier.evaluate_model(X_test, y_test)"
   ],
   "metadata": {
    "collapsed": false,
    "ExecuteTime": {
     "end_time": "2024-04-04T11:15:34.013185Z",
     "start_time": "2024-04-04T11:11:40.721814Z"
    }
   },
   "id": "60b4255e9f43250c",
   "execution_count": 4
  },
  {
   "cell_type": "code",
   "outputs": [],
   "source": [
    "test_data = \"C:\\\\Users\\\\johnp\\\\PycharmProjects\\\\scientificProject\\\\data\\\\bank_churn_test.csv\"\n",
    "\n",
    "prepare_kaggle_submission(test_data, data_preprocessing_pipeline.preprocess_data, classifier.get_predictions, 'Exited', 0.5)"
   ],
   "metadata": {
    "collapsed": false
   },
   "id": "9bf0fe89892b5172",
   "execution_count": null
  }
 ],
 "metadata": {
  "kernelspec": {
   "display_name": "Python 3",
   "language": "python",
   "name": "python3"
  },
  "language_info": {
   "codemirror_mode": {
    "name": "ipython",
    "version": 2
   },
   "file_extension": ".py",
   "mimetype": "text/x-python",
   "name": "python",
   "nbconvert_exporter": "python",
   "pygments_lexer": "ipython2",
   "version": "2.7.6"
  }
 },
 "nbformat": 4,
 "nbformat_minor": 5
}
