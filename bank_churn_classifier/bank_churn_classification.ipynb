{
 "cells": [
  {
   "cell_type": "code",
   "execution_count": 1,
   "id": "initial_id",
   "metadata": {
    "collapsed": true,
    "ExecuteTime": {
     "end_time": "2024-04-04T11:11:39.666787Z",
     "start_time": "2024-04-04T11:11:35.926297Z"
    }
   },
   "source": [
    "import pandas as pd\n",
    "\n",
    "from imblearn.over_sampling import SMOTE\n",
    "from sklearn.model_selection import train_test_split\n",
    "from sklearn.preprocessing import MinMaxScaler\n",
    "\n",
    "from data_preprocessing_pipeline import DataPreprocessingPipeline\n",
    "from bank_churn_classifier import BankChurnClassifier\n",
    "\n",
    "from utils import *"
   ],
   "outputs": []
  },
  {
   "cell_type": "code",
   "source": [
    "dataset = pd.read_csv(\"C:\\\\Users\\\\johnp\\\\PycharmProjects\\\\scientificProject\\\\data\\\\bank_churn_train.csv\")\n",
    "\n",
    "columns_to_drop = ['id', 'CustomerId', 'Surname']\n",
    "categorical_columns = ['Gender', 'Geography']\n",
    "\n",
    "data_preprocessing_pipeline = DataPreprocessingPipeline(columns_to_drop=columns_to_drop, categorical_columns=categorical_columns)\n",
    "classifier = BankChurnClassifier()\n",
    "\n",
    "smote = SMOTE(sampling_strategy='minority')\n",
    "scaler = MinMaxScaler()"
   ],
   "metadata": {
    "collapsed": false,
    "ExecuteTime": {
     "end_time": "2024-04-04T11:11:39.942905Z",
     "start_time": "2024-04-04T11:11:39.667795Z"
    }
   },
   "id": "34dc33afc26d0798",
   "execution_count": 2,
   "outputs": []
  },
  {
   "cell_type": "code",
   "source": [
    "dataset = data_preprocessing_pipeline.preprocess_data(dataset)\n",
    "\n",
    "X = dataset.drop(columns=['Exited'])\n",
    "y = dataset['Exited']\n",
    "\n",
    "X, y = smote.fit_resample(X, y)\n",
    "X = scaler.fit_transform(X)\n",
    "\n",
    "X_train, X_test, y_train, y_test = train_test_split(X, y, test_size=0.1, random_state=42)"
   ],
   "metadata": {
    "collapsed": false
   },
   "id": "18df9b3d6a5f9728",
   "execution_count": null,
   "outputs": []
  },
  {
   "cell_type": "code",
   "source": [
    "classifier.train_model(X_train=X_train, \n",
    "                       y_train=y_train, \n",
    "                       epochs=30, \n",
    "                       batch_size=32,\n",
    "                       validation_split=0.1)\n",
    "\n",
    "classifier.evaluate_model(X_test, y_test)"
   ],
   "metadata": {
    "collapsed": false,
    "ExecuteTime": {
     "end_time": "2024-04-04T11:15:34.013185Z",
     "start_time": "2024-04-04T11:11:40.721814Z"
    }
   },
   "id": "60b4255e9f43250c",
   "execution_count": 4,
   "outputs": []
  },
  {
   "cell_type": "code",
   "source": [
    "test_data = \"C:\\\\Users\\\\johnp\\\\PycharmProjects\\\\scientificProject\\\\pdfs\\\\bank_churn_test.csv\"\n",
    "\n",
    "prepare_kaggle_submission(test_data, data_preprocessing_pipeline.preprocess_data, classifier.get_predictions, 'Exited', 0.5)"
   ],
   "metadata": {
    "collapsed": false
   },
   "id": "9bf0fe89892b5172",
   "execution_count": null,
   "outputs": []
  }
 ],
 "metadata": {
  "kernelspec": {
   "display_name": "Python 3",
   "language": "python",
   "name": "python3"
  },
  "language_info": {
   "codemirror_mode": {
    "name": "ipython",
    "version": 2
   },
   "file_extension": ".py",
   "mimetype": "text/x-python",
   "name": "python",
   "nbconvert_exporter": "python",
   "pygments_lexer": "ipython2",
   "version": "2.7.6"
  }
 },
 "nbformat": 4,
 "nbformat_minor": 5
}
