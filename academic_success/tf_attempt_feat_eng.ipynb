{
 "cells": [
  {
   "cell_type": "code",
   "id": "initial_id",
   "metadata": {
    "collapsed": true,
    "ExecuteTime": {
     "end_time": "2024-08-02T11:54:54.704388Z",
     "start_time": "2024-08-02T11:54:07.581076Z"
    }
   },
   "source": [
    "import pandas as pd\n",
    "import numpy as np\n",
    "\n",
    "from sklearn.model_selection import train_test_split\n",
    "from sklearn.preprocessing import StandardScaler\n",
    "from sklearn.utils import resample\n",
    "from sklearn.compose import ColumnTransformer\n",
    "from sklearn.preprocessing import OneHotEncoder, OrdinalEncoder, LabelEncoder\n",
    "from sklearn.metrics import accuracy_score, confusion_matrix\n",
    "\n",
    "from tensorflow.keras.models import Sequential\n",
    "from tensorflow.keras.layers import Dense, Input, Dropout\n",
    "from tensorflow.keras.optimizers import Adam\n",
    "from tensorflow.keras.callbacks import EarlyStopping\n",
    "from tensorflow.keras.metrics import AUC, Precision, Recall\n",
    "from tensorflow.keras.losses import SparseCategoricalCrossentropy\n",
    "from tensorflow.keras.regularizers import L1L2\n",
    "\n",
    "from mappings import qualification_mapping, profession_mapping"
   ],
   "outputs": [],
   "execution_count": 1
  },
  {
   "metadata": {
    "ExecuteTime": {
     "end_time": "2024-08-02T11:54:55.025911Z",
     "start_time": "2024-08-02T11:54:54.718778Z"
    }
   },
   "cell_type": "code",
   "source": "df = pd.read_csv('train.csv')",
   "id": "ac00e6160914ea02",
   "outputs": [],
   "execution_count": 2
  },
  {
   "metadata": {
    "ExecuteTime": {
     "end_time": "2024-08-02T12:07:01.663819Z",
     "start_time": "2024-08-02T12:07:01.658218Z"
    }
   },
   "cell_type": "code",
   "source": [
    "def qualification_occupation_engineering(data: pd.DataFrame) -> pd.DataFrame:\n",
    "    data['qualification_categories'] = data['Previous qualification'].map(qualification_mapping)\n",
    "    data['mother_qualification_categories'] = data['Mother\\'s qualification'].map(qualification_mapping)\n",
    "    data['father_qualification_categories'] = data['Father\\'s qualification'].map(qualification_mapping)\n",
    "    \n",
    "    data['mother_profession_categories'] = data['Mother\\'s occupation'].map(profession_mapping)\n",
    "    data['father_profession_categories'] = data['Father\\'s occupation'].map(profession_mapping)\n",
    "    \n",
    "    return data"
   ],
   "id": "323cc047c2b7f3bc",
   "outputs": [],
   "execution_count": 3
  },
  {
   "metadata": {
    "ExecuteTime": {
     "end_time": "2024-08-02T12:07:03.078665Z",
     "start_time": "2024-08-02T12:07:03.073828Z"
    }
   },
   "cell_type": "code",
   "source": [
    "def flip_application_order(data: pd.DataFrame) -> pd.DataFrame:\n",
    "    data['Application order'] = 9 - data['Application order']\n",
    "    \n",
    "    return data"
   ],
   "id": "82065e86908f6c6d",
   "outputs": [],
   "execution_count": 4
  },
  {
   "metadata": {
    "ExecuteTime": {
     "end_time": "2024-08-02T12:07:04.696138Z",
     "start_time": "2024-08-02T12:07:04.691671Z"
    }
   },
   "cell_type": "code",
   "source": [
    "categorical_columns = [\"Marital status\", \"Application mode\", \"Course\", \"qualification_categories\", \"mother_profession_categories\", \"father_profession_categories\", \"mother_qualification_categories\", \"father_qualification_categories\", 'Daytime/evening attendance', 'Displaced', 'Tuition fees up to date', 'Gender', 'Scholarship holder']\n",
    "ordinal_columns = [\"Application order\"]\n",
    "numeric_columns = [\"Previous qualification (grade)\", \"Admission grade\", \"Age at enrollment\", \"Curricular units 1st sem (credited)\", \"Curricular units 1st sem (enrolled)\", \"Curricular units 1st sem (evaluations)\", \"Curricular units 1st sem (approved)\", \"Curricular units 1st sem (grade)\", \"Curricular units 1st sem (without evaluations)\", \"Curricular units 2nd sem (credited)\", \"Curricular units 2nd sem (enrolled)\", \"Curricular units 2nd sem (evaluations)\", \"Curricular units 2nd sem (approved)\", \"Curricular units 2nd sem (grade)\", \"Curricular units 2nd sem (without evaluations)\", \"Unemployment rate\", \"Inflation rate\", \"GDP\"]\n",
    "drop_columns = ['Target', 'id', 'Nacionality', 'International', 'Educational special needs', \"Previous qualification\", \"Mother's qualification\", \"Father's qualification\", \"Mother's occupation\", \"Father's occupation\"]"
   ],
   "id": "b57b133e0dd8cda1",
   "outputs": [],
   "execution_count": 5
  },
  {
   "metadata": {
    "ExecuteTime": {
     "end_time": "2024-08-02T12:07:05.780715Z",
     "start_time": "2024-08-02T12:07:05.776760Z"
    }
   },
   "cell_type": "code",
   "source": [
    "preprocessor = ColumnTransformer(\n",
    "    transformers=[\n",
    "        ('onehot', OneHotEncoder(handle_unknown='ignore'), categorical_columns),\n",
    "        ('ordinal', OrdinalEncoder(), ordinal_columns),\n",
    "        ('scaler', StandardScaler(), numeric_columns)\n",
    "    ],\n",
    "    remainder='passthrough'\n",
    ")"
   ],
   "id": "b31a2c7de5658bdc",
   "outputs": [],
   "execution_count": 6
  },
  {
   "metadata": {
    "ExecuteTime": {
     "end_time": "2024-08-02T12:07:14.488678Z",
     "start_time": "2024-08-02T12:07:14.473889Z"
    }
   },
   "cell_type": "code",
   "source": [
    "label_encoder = LabelEncoder()\n",
    "df['Target'] = label_encoder.fit_transform(df['Target'])"
   ],
   "id": "355504f7756b3845",
   "outputs": [],
   "execution_count": 7
  },
  {
   "metadata": {
    "ExecuteTime": {
     "end_time": "2024-08-02T12:08:03.216388Z",
     "start_time": "2024-08-02T12:08:03.194857Z"
    }
   },
   "cell_type": "code",
   "source": [
    "df = flip_application_order(df)\n",
    "df = qualification_occupation_engineering(df)"
   ],
   "id": "8379d415eebe1da6",
   "outputs": [],
   "execution_count": 9
  },
  {
   "metadata": {
    "ExecuteTime": {
     "end_time": "2024-08-02T12:08:05.342469Z",
     "start_time": "2024-08-02T12:08:05.322280Z"
    }
   },
   "cell_type": "code",
   "source": [
    "X_data = df.drop(drop_columns, axis=1)\n",
    "y_data = df['Target']"
   ],
   "id": "31e33ef2e2ade67d",
   "outputs": [],
   "execution_count": 10
  },
  {
   "metadata": {
    "ExecuteTime": {
     "end_time": "2024-08-02T12:08:13.363570Z",
     "start_time": "2024-08-02T12:08:12.987686Z"
    }
   },
   "cell_type": "code",
   "source": [
    "X_train, X_test, y_train, y_test = train_test_split(X_data, y_data, test_size=0.2, random_state=42)\n",
    "X_train = preprocessor.fit_transform(X_train)\n",
    "X_test = preprocessor.transform(X_test)"
   ],
   "id": "c3bcb8595d4b75bc",
   "outputs": [],
   "execution_count": 11
  },
  {
   "metadata": {
    "ExecuteTime": {
     "end_time": "2024-08-02T12:08:16.975050Z",
     "start_time": "2024-08-02T12:08:16.943899Z"
    }
   },
   "cell_type": "code",
   "source": [
    "print(X_train.shape)\n",
    "print(y_train.shape)"
   ],
   "id": "3954f367bf02334f",
   "outputs": [
    {
     "name": "stdout",
     "output_type": "stream",
     "text": [
      "(61214, 132)\n",
      "(61214,)\n"
     ]
    }
   ],
   "execution_count": 12
  },
  {
   "metadata": {
    "ExecuteTime": {
     "end_time": "2024-08-02T12:09:15.851077Z",
     "start_time": "2024-08-02T12:08:44.790955Z"
    }
   },
   "cell_type": "code",
   "source": [
    "callback = EarlyStopping(monitor='val_loss', mode='max', min_delta=0.001, patience=10, restore_best_weights=True)\n",
    "\n",
    "tf_model = Sequential([\n",
    "    Input(shape=(X_train.shape[1],)),\n",
    "    # Dense(64, activation='relu', kernel_regularizer=L1L2(l1=1e-8, l2=1e-7)),\n",
    "    # Dropout(0.2),\n",
    "    # Dense(128, activation='relu', kernel_regularizer=L1L2(l1=1e-8, l2=1e-7)),\n",
    "    # Dropout(0.2),\n",
    "    # Dense(672, activation='relu', kernel_regularizer=L1L2(l1=1e-8, l2=1e-7)),\n",
    "    # Dropout(0.3),\n",
    "    # Dense(128, activation='relu', kernel_regularizer=L1L2(l1=1e-8, l2=1e-7)),\n",
    "    # Dropout(0.2),\n",
    "    Dense(64, activation='relu', kernel_regularizer=L1L2(l1=1e-8, l2=1e-7)),\n",
    "    Dropout(0.2),\n",
    "    Dense(32, activation='relu', kernel_regularizer=L1L2(l1=1e-8, l2=1e-7)),\n",
    "    Dense(16, activation='relu', kernel_regularizer=L1L2(l1=1e-8, l2=1e-7)),\n",
    "    Dense(3, activation='softmax'),\n",
    "])\n",
    "\n",
    "tf_model.compile(loss='sparse_categorical_crossentropy', optimizer=Adam(learning_rate=0.001), metrics=['accuracy'])\n",
    "\n",
    "tf_model.fit(X_train, y_train, epochs=100, verbose=2, validation_data=(X_test, y_test), callbacks=[callback], batch_size=32)"
   ],
   "id": "8d2719b85dfc52e",
   "outputs": [
    {
     "name": "stdout",
     "output_type": "stream",
     "text": [
      "Epoch 1/100\n",
      "1913/1913 - 4s - 2ms/step - accuracy: 0.8019 - loss: 0.5067 - val_accuracy: 0.8243 - val_loss: 0.4604\n",
      "Epoch 2/100\n",
      "1913/1913 - 3s - 1ms/step - accuracy: 0.8208 - loss: 0.4661 - val_accuracy: 0.8272 - val_loss: 0.4493\n",
      "Epoch 3/100\n",
      "1913/1913 - 2s - 1ms/step - accuracy: 0.8215 - loss: 0.4600 - val_accuracy: 0.8289 - val_loss: 0.4509\n",
      "Epoch 4/100\n",
      "1913/1913 - 2s - 1ms/step - accuracy: 0.8238 - loss: 0.4556 - val_accuracy: 0.8263 - val_loss: 0.4479\n",
      "Epoch 5/100\n",
      "1913/1913 - 3s - 1ms/step - accuracy: 0.8236 - loss: 0.4519 - val_accuracy: 0.8262 - val_loss: 0.4519\n",
      "Epoch 6/100\n",
      "1913/1913 - 2s - 1ms/step - accuracy: 0.8260 - loss: 0.4495 - val_accuracy: 0.8296 - val_loss: 0.4453\n",
      "Epoch 7/100\n",
      "1913/1913 - 3s - 1ms/step - accuracy: 0.8269 - loss: 0.4479 - val_accuracy: 0.8235 - val_loss: 0.4501\n",
      "Epoch 8/100\n",
      "1913/1913 - 3s - 2ms/step - accuracy: 0.8284 - loss: 0.4458 - val_accuracy: 0.8298 - val_loss: 0.4442\n",
      "Epoch 9/100\n",
      "1913/1913 - 3s - 2ms/step - accuracy: 0.8287 - loss: 0.4432 - val_accuracy: 0.8306 - val_loss: 0.4443\n",
      "Epoch 10/100\n",
      "1913/1913 - 3s - 1ms/step - accuracy: 0.8289 - loss: 0.4427 - val_accuracy: 0.8297 - val_loss: 0.4434\n",
      "Epoch 11/100\n",
      "1913/1913 - 2s - 1ms/step - accuracy: 0.8303 - loss: 0.4410 - val_accuracy: 0.8278 - val_loss: 0.4473\n"
     ]
    },
    {
     "data": {
      "text/plain": [
       "<keras.src.callbacks.history.History at 0x1f7224696d0>"
      ]
     },
     "execution_count": 13,
     "metadata": {},
     "output_type": "execute_result"
    }
   ],
   "execution_count": 13
  },
  {
   "metadata": {
    "ExecuteTime": {
     "end_time": "2024-08-02T12:09:18.012082Z",
     "start_time": "2024-08-02T12:09:15.852181Z"
    }
   },
   "cell_type": "code",
   "source": [
    "from xgboost import XGBClassifier\n",
    "\n",
    "xgb_model = XGBClassifier(n_jobs=-1, random_state=42)\n",
    "xgb_model.fit(X_train, y_train)\n",
    "\n",
    "y_pred = xgb_model.predict(X_test)\n",
    "acc = accuracy_score(y_test, y_pred)\n",
    "print(f\"Accuracy: {acc}\")"
   ],
   "id": "6053f90155205010",
   "outputs": [
    {
     "name": "stdout",
     "output_type": "stream",
     "text": [
      "Accuracy: 0.8329848405645582\n"
     ]
    }
   ],
   "execution_count": 14
  },
  {
   "metadata": {
    "ExecuteTime": {
     "end_time": "2024-08-02T12:15:50.424895Z",
     "start_time": "2024-08-02T12:15:11.277995Z"
    }
   },
   "cell_type": "code",
   "source": [
    "from tensorflow.keras.layers import LeakyReLU\n",
    "\n",
    "leaky_tf_model = Sequential([\n",
    "    Input(shape=(X_train.shape[1],)),\n",
    "    Dense(128),\n",
    "    LeakyReLU(negative_slope=0.1),\n",
    "    Dense(64),\n",
    "    LeakyReLU(negative_slope=0.1),\n",
    "    Dropout(0.2),\n",
    "    Dense(32),\n",
    "    LeakyReLU(negative_slope=0.1),\n",
    "    Dense(16),\n",
    "    LeakyReLU(negative_slope=0.1),\n",
    "    Dense(3, activation='softmax'),\n",
    "])\n",
    "\n",
    "leaky_tf_model.compile(loss=SparseCategoricalCrossentropy(), optimizer=Adam(learning_rate=0.001), metrics=['accuracy'])\n",
    "\n",
    "leaky_tf_model.fit(X_train, y_train, epochs=100, verbose=2, validation_data=(X_test, y_test), callbacks=[callback], batch_size=32)"
   ],
   "id": "efbcc8a148101903",
   "outputs": [
    {
     "name": "stdout",
     "output_type": "stream",
     "text": [
      "Epoch 1/100\n",
      "1913/1913 - 4s - 2ms/step - accuracy: 0.8108 - loss: 0.4888 - val_accuracy: 0.8275 - val_loss: 0.4534\n",
      "Epoch 2/100\n",
      "1913/1913 - 5s - 3ms/step - accuracy: 0.8236 - loss: 0.4609 - val_accuracy: 0.8274 - val_loss: 0.4567\n",
      "Epoch 3/100\n",
      "1913/1913 - 5s - 3ms/step - accuracy: 0.8236 - loss: 0.4551 - val_accuracy: 0.8285 - val_loss: 0.4494\n",
      "Epoch 4/100\n",
      "1913/1913 - 3s - 1ms/step - accuracy: 0.8265 - loss: 0.4499 - val_accuracy: 0.8295 - val_loss: 0.4454\n",
      "Epoch 5/100\n",
      "1913/1913 - 3s - 2ms/step - accuracy: 0.8278 - loss: 0.4462 - val_accuracy: 0.8297 - val_loss: 0.4475\n",
      "Epoch 6/100\n",
      "1913/1913 - 3s - 2ms/step - accuracy: 0.8284 - loss: 0.4431 - val_accuracy: 0.8287 - val_loss: 0.4452\n",
      "Epoch 7/100\n",
      "1913/1913 - 5s - 3ms/step - accuracy: 0.8293 - loss: 0.4399 - val_accuracy: 0.8266 - val_loss: 0.4499\n",
      "Epoch 8/100\n",
      "1913/1913 - 5s - 3ms/step - accuracy: 0.8307 - loss: 0.4365 - val_accuracy: 0.8270 - val_loss: 0.4440\n",
      "Epoch 9/100\n",
      "1913/1913 - 3s - 2ms/step - accuracy: 0.8316 - loss: 0.4330 - val_accuracy: 0.8279 - val_loss: 0.4491\n",
      "Epoch 10/100\n",
      "1913/1913 - 3s - 2ms/step - accuracy: 0.8336 - loss: 0.4292 - val_accuracy: 0.8247 - val_loss: 0.4534\n"
     ]
    },
    {
     "data": {
      "text/plain": [
       "<keras.src.callbacks.history.History at 0x1f7256943e0>"
      ]
     },
     "execution_count": 18,
     "metadata": {},
     "output_type": "execute_result"
    }
   ],
   "execution_count": 18
  },
  {
   "metadata": {
    "ExecuteTime": {
     "end_time": "2024-08-02T12:16:33.787211Z",
     "start_time": "2024-08-02T12:16:33.742944Z"
    }
   },
   "cell_type": "code",
   "source": "leaky_tf_model.save('leaky_tf_128_8336.keras')",
   "id": "c6440ce268db3b19",
   "outputs": [],
   "execution_count": 19
  },
  {
   "metadata": {
    "ExecuteTime": {
     "end_time": "2024-08-02T12:16:57.880431Z",
     "start_time": "2024-08-02T12:16:57.767963Z"
    }
   },
   "cell_type": "code",
   "source": "test = pd.read_csv('test.csv')",
   "id": "d66429e7485ea49e",
   "outputs": [],
   "execution_count": 20
  },
  {
   "metadata": {
    "ExecuteTime": {
     "end_time": "2024-08-02T12:17:58.280649Z",
     "start_time": "2024-08-02T12:17:58.148561Z"
    }
   },
   "cell_type": "code",
   "source": [
    "test = flip_application_order(test)\n",
    "test = qualification_occupation_engineering(test)\n",
    "ids = test['id']\n",
    "test = preprocessor.transform(test)"
   ],
   "id": "f00c5569a82cdc73",
   "outputs": [],
   "execution_count": 21
  },
  {
   "metadata": {
    "ExecuteTime": {
     "end_time": "2024-08-02T12:24:05.260415Z",
     "start_time": "2024-08-02T12:24:02.484266Z"
    }
   },
   "cell_type": "code",
   "source": "pred = leaky_tf_model.predict(test)",
   "id": "e32908abf0b03e6d",
   "outputs": [
    {
     "name": "stdout",
     "output_type": "stream",
     "text": [
      "\u001B[1m1595/1595\u001B[0m \u001B[32m━━━━━━━━━━━━━━━━━━━━\u001B[0m\u001B[37m\u001B[0m \u001B[1m2s\u001B[0m 1ms/step\n"
     ]
    }
   ],
   "execution_count": 22
  },
  {
   "metadata": {
    "ExecuteTime": {
     "end_time": "2024-08-02T12:24:08.641652Z",
     "start_time": "2024-08-02T12:24:08.636298Z"
    }
   },
   "cell_type": "code",
   "source": "pred",
   "id": "ea26bc4a85955988",
   "outputs": [
    {
     "data": {
      "text/plain": [
       "array([[0.98737204, 0.0099334 , 0.00269461],\n",
       "       [0.00742142, 0.0269845 , 0.96559405],\n",
       "       [0.05165423, 0.23641491, 0.71193093],\n",
       "       ...,\n",
       "       [0.95373994, 0.02020093, 0.02605912],\n",
       "       [0.7631964 , 0.2151306 , 0.02167292],\n",
       "       [0.9357442 , 0.02914673, 0.03510908]], dtype=float32)"
      ]
     },
     "execution_count": 23,
     "metadata": {},
     "output_type": "execute_result"
    }
   ],
   "execution_count": 23
  },
  {
   "metadata": {
    "ExecuteTime": {
     "end_time": "2024-08-02T12:31:38.423087Z",
     "start_time": "2024-08-02T12:31:38.309001Z"
    }
   },
   "cell_type": "code",
   "source": "xgb_pred = xgb_model.predict(test)",
   "id": "e00c1fa2c9af115a",
   "outputs": [],
   "execution_count": 31
  },
  {
   "metadata": {
    "ExecuteTime": {
     "end_time": "2024-08-02T12:28:02.706293Z",
     "start_time": "2024-08-02T12:28:02.700998Z"
    }
   },
   "cell_type": "code",
   "source": [
    "mapping = dict(zip(label_encoder.classes_, label_encoder.transform(label_encoder.classes_)))\n",
    "print(mapping)"
   ],
   "id": "b747b479505b966b",
   "outputs": [
    {
     "name": "stdout",
     "output_type": "stream",
     "text": [
      "{'Dropout': 0, 'Enrolled': 1, 'Graduate': 2}\n"
     ]
    }
   ],
   "execution_count": 26
  },
  {
   "metadata": {
    "ExecuteTime": {
     "end_time": "2024-08-02T12:32:25.930137Z",
     "start_time": "2024-08-02T12:32:25.889661Z"
    }
   },
   "cell_type": "code",
   "source": [
    "submission_xgb = pd.DataFrame({\"id\": ids, \"Target\": xgb_pred})\n",
    "submission_xgb['Target'] = submission_xgb['Target'].map({0: 'Dropout', 1: 'Enrolled', 2: 'Graduate'})\n",
    "print(submission_xgb['Target'].value_counts())"
   ],
   "id": "9531458056fef53e",
   "outputs": [
    {
     "name": "stdout",
     "output_type": "stream",
     "text": [
      "Target\n",
      "Graduate    26393\n",
      "Dropout     15336\n",
      "Enrolled     9283\n",
      "Name: count, dtype: int64\n"
     ]
    }
   ],
   "execution_count": 34
  },
  {
   "metadata": {
    "ExecuteTime": {
     "end_time": "2024-08-02T12:33:12.329578Z",
     "start_time": "2024-08-02T12:33:12.230655Z"
    }
   },
   "cell_type": "code",
   "source": "submission_xgb.to_csv('submission_xgb.csv', index=False)",
   "id": "9c1a528659d5e02e",
   "outputs": [],
   "execution_count": 36
  },
  {
   "metadata": {
    "ExecuteTime": {
     "end_time": "2024-08-02T12:40:29.018221Z",
     "start_time": "2024-08-02T12:40:29.008603Z"
    }
   },
   "cell_type": "code",
   "source": [
    "predicted_classes = np.argmax(pred, axis=1)\n",
    "predicted_labels = pd.Series(predicted_classes).map({0: 'Dropout', 1: 'Enrolled', 2: 'Graduate'})"
   ],
   "id": "251a4a0169ff59dd",
   "outputs": [],
   "execution_count": 37
  },
  {
   "metadata": {
    "ExecuteTime": {
     "end_time": "2024-08-02T12:41:17.696699Z",
     "start_time": "2024-08-02T12:41:17.689192Z"
    }
   },
   "cell_type": "code",
   "source": [
    "submission_keras = pd.DataFrame({\"id\": ids, \"Target\": predicted_labels})\n",
    "submission_keras"
   ],
   "id": "723d7b7bb6aff861",
   "outputs": [
    {
     "data": {
      "text/plain": [
       "           id    Target\n",
       "0       76518   Dropout\n",
       "1       76519  Graduate\n",
       "2       76520  Graduate\n",
       "3       76521  Enrolled\n",
       "4       76522  Enrolled\n",
       "...       ...       ...\n",
       "51007  127525   Dropout\n",
       "51008  127526   Dropout\n",
       "51009  127527   Dropout\n",
       "51010  127528   Dropout\n",
       "51011  127529   Dropout\n",
       "\n",
       "[51012 rows x 2 columns]"
      ],
      "text/html": [
       "<div>\n",
       "<style scoped>\n",
       "    .dataframe tbody tr th:only-of-type {\n",
       "        vertical-align: middle;\n",
       "    }\n",
       "\n",
       "    .dataframe tbody tr th {\n",
       "        vertical-align: top;\n",
       "    }\n",
       "\n",
       "    .dataframe thead th {\n",
       "        text-align: right;\n",
       "    }\n",
       "</style>\n",
       "<table border=\"1\" class=\"dataframe\">\n",
       "  <thead>\n",
       "    <tr style=\"text-align: right;\">\n",
       "      <th></th>\n",
       "      <th>id</th>\n",
       "      <th>Target</th>\n",
       "    </tr>\n",
       "  </thead>\n",
       "  <tbody>\n",
       "    <tr>\n",
       "      <th>0</th>\n",
       "      <td>76518</td>\n",
       "      <td>Dropout</td>\n",
       "    </tr>\n",
       "    <tr>\n",
       "      <th>1</th>\n",
       "      <td>76519</td>\n",
       "      <td>Graduate</td>\n",
       "    </tr>\n",
       "    <tr>\n",
       "      <th>2</th>\n",
       "      <td>76520</td>\n",
       "      <td>Graduate</td>\n",
       "    </tr>\n",
       "    <tr>\n",
       "      <th>3</th>\n",
       "      <td>76521</td>\n",
       "      <td>Enrolled</td>\n",
       "    </tr>\n",
       "    <tr>\n",
       "      <th>4</th>\n",
       "      <td>76522</td>\n",
       "      <td>Enrolled</td>\n",
       "    </tr>\n",
       "    <tr>\n",
       "      <th>...</th>\n",
       "      <td>...</td>\n",
       "      <td>...</td>\n",
       "    </tr>\n",
       "    <tr>\n",
       "      <th>51007</th>\n",
       "      <td>127525</td>\n",
       "      <td>Dropout</td>\n",
       "    </tr>\n",
       "    <tr>\n",
       "      <th>51008</th>\n",
       "      <td>127526</td>\n",
       "      <td>Dropout</td>\n",
       "    </tr>\n",
       "    <tr>\n",
       "      <th>51009</th>\n",
       "      <td>127527</td>\n",
       "      <td>Dropout</td>\n",
       "    </tr>\n",
       "    <tr>\n",
       "      <th>51010</th>\n",
       "      <td>127528</td>\n",
       "      <td>Dropout</td>\n",
       "    </tr>\n",
       "    <tr>\n",
       "      <th>51011</th>\n",
       "      <td>127529</td>\n",
       "      <td>Dropout</td>\n",
       "    </tr>\n",
       "  </tbody>\n",
       "</table>\n",
       "<p>51012 rows × 2 columns</p>\n",
       "</div>"
      ]
     },
     "execution_count": 40,
     "metadata": {},
     "output_type": "execute_result"
    }
   ],
   "execution_count": 40
  },
  {
   "metadata": {
    "ExecuteTime": {
     "end_time": "2024-08-02T12:41:39.210764Z",
     "start_time": "2024-08-02T12:41:39.172003Z"
    }
   },
   "cell_type": "code",
   "source": "submission_keras.to_csv('submission_keras.csv', index=False)",
   "id": "e3bba0eb90e2699e",
   "outputs": [],
   "execution_count": 41
  }
 ],
 "metadata": {
  "kernelspec": {
   "display_name": "Python 3",
   "language": "python",
   "name": "python3"
  },
  "language_info": {
   "codemirror_mode": {
    "name": "ipython",
    "version": 2
   },
   "file_extension": ".py",
   "mimetype": "text/x-python",
   "name": "python",
   "nbconvert_exporter": "python",
   "pygments_lexer": "ipython2",
   "version": "2.7.6"
  }
 },
 "nbformat": 4,
 "nbformat_minor": 5
}
