{
 "cells": [
  {
   "cell_type": "code",
   "id": "initial_id",
   "metadata": {
    "collapsed": true,
    "ExecuteTime": {
     "end_time": "2024-07-31T11:20:31.103954Z",
     "start_time": "2024-07-31T11:20:26.750374Z"
    }
   },
   "source": [
    "import pandas as pd\n",
    "import numpy as np\n",
    "\n",
    "from sklearn.model_selection import train_test_split\n",
    "from sklearn.preprocessing import StandardScaler\n",
    "from sklearn.utils import resample\n",
    "from sklearn.compose import ColumnTransformer\n",
    "from sklearn.preprocessing import OneHotEncoder, OrdinalEncoder, LabelEncoder"
   ],
   "outputs": [],
   "execution_count": 1
  },
  {
   "metadata": {
    "ExecuteTime": {
     "end_time": "2024-07-31T11:20:32.698214Z",
     "start_time": "2024-07-31T11:20:31.110986Z"
    }
   },
   "cell_type": "code",
   "source": "from xgboost import XGBClassifier",
   "id": "85600dfe928848b",
   "outputs": [],
   "execution_count": 2
  },
  {
   "metadata": {
    "ExecuteTime": {
     "end_time": "2024-07-31T11:23:39.005190Z",
     "start_time": "2024-07-31T11:23:38.993633Z"
    }
   },
   "cell_type": "code",
   "source": [
    "from sklearn.model_selection import train_test_split, cross_val_score, StratifiedKFold\n",
    "from sklearn.metrics import accuracy_score, confusion_matrix"
   ],
   "id": "b805aca45abbf12",
   "outputs": [],
   "execution_count": 10
  },
  {
   "metadata": {
    "ExecuteTime": {
     "end_time": "2024-07-31T11:20:33.141199Z",
     "start_time": "2024-07-31T11:20:32.713622Z"
    }
   },
   "cell_type": "code",
   "source": "df = pd.read_csv('train.csv')",
   "id": "e87ba75e1aacb379",
   "outputs": [],
   "execution_count": 3
  },
  {
   "metadata": {
    "ExecuteTime": {
     "end_time": "2024-07-31T11:44:26.463035Z",
     "start_time": "2024-07-31T11:44:26.454121Z"
    }
   },
   "cell_type": "code",
   "source": [
    "categorical_columns = [\"Marital status\", \"Application mode\", \"Course\", \"Previous qualification\", \"Mother's qualification\", \"Father's qualification\", \"Mother's occupation\", \"Father's occupation\"]\n",
    "ordinal_columns = [\"Application order\"]\n",
    "numeric_columns = [\"Previous qualification (grade)\", \"Admission grade\", \"Age at enrollment\", \"Curricular units 1st sem (credited)\", \"Curricular units 1st sem (enrolled)\", \"Curricular units 1st sem (evaluations)\", \"Curricular units 1st sem (approved)\", \"Curricular units 1st sem (grade)\", \"Curricular units 1st sem (without evaluations)\", \"Curricular units 2nd sem (credited)\", \"Curricular units 2nd sem (enrolled)\", \"Curricular units 2nd sem (evaluations)\", \"Curricular units 2nd sem (approved)\", \"Curricular units 2nd sem (grade)\", \"Curricular units 2nd sem (without evaluations)\", \"Unemployment rate\", \"Inflation rate\", \"GDP\"]\n",
    "drop_columns = ['Target', 'id', 'Nacionality']"
   ],
   "id": "b788625db6f23b2c",
   "outputs": [],
   "execution_count": 12
  },
  {
   "metadata": {
    "ExecuteTime": {
     "end_time": "2024-07-31T11:44:27.321444Z",
     "start_time": "2024-07-31T11:44:27.314104Z"
    }
   },
   "cell_type": "code",
   "source": [
    "preprocessor = ColumnTransformer(\n",
    "    transformers=[\n",
    "        ('onehot', OneHotEncoder(handle_unknown='ignore'), categorical_columns),\n",
    "        ('ordinal', OrdinalEncoder(), ordinal_columns),\n",
    "        ('scaler', StandardScaler(), numeric_columns)\n",
    "    ],\n",
    "    remainder='passthrough'\n",
    ")"
   ],
   "id": "4a70bbc8a1b08982",
   "outputs": [],
   "execution_count": 13
  },
  {
   "metadata": {
    "ExecuteTime": {
     "end_time": "2024-07-31T11:20:33.237195Z",
     "start_time": "2024-07-31T11:20:33.169664Z"
    }
   },
   "cell_type": "code",
   "source": [
    "label_encoder = LabelEncoder()\n",
    "df['Target'] = label_encoder.fit_transform(df['Target'])"
   ],
   "id": "324515a3c4307183",
   "outputs": [],
   "execution_count": 5
  },
  {
   "metadata": {
    "ExecuteTime": {
     "end_time": "2024-07-31T11:21:28.339941Z",
     "start_time": "2024-07-31T11:21:28.323849Z"
    }
   },
   "cell_type": "code",
   "source": [
    "X_data = df.drop(drop_columns, axis=1)\n",
    "y_data = df['Target']"
   ],
   "id": "27cfc7b57c65b397",
   "outputs": [],
   "execution_count": 7
  },
  {
   "metadata": {
    "ExecuteTime": {
     "end_time": "2024-07-31T11:21:57.417019Z",
     "start_time": "2024-07-31T11:21:57.093514Z"
    }
   },
   "cell_type": "code",
   "source": [
    "X_train, X_test, y_train, y_test = train_test_split(X_data, y_data, test_size=0.2, random_state=42)\n",
    "X_train = preprocessor.fit_transform(X_train)\n",
    "X_test = preprocessor.transform(X_test)"
   ],
   "id": "891bb422ed4d7758",
   "outputs": [],
   "execution_count": 8
  },
  {
   "metadata": {
    "ExecuteTime": {
     "end_time": "2024-07-31T11:24:25.519860Z",
     "start_time": "2024-07-31T11:24:24.572034Z"
    }
   },
   "cell_type": "code",
   "source": [
    "xgb_model = XGBClassifier(random_state=42)\n",
    "xgb_model.fit(X_train, y_train)\n",
    "\n",
    "y_pred = xgb_model.predict(X_test)\n",
    "acc = accuracy_score(y_test, y_pred)\n",
    "print(f\"Accuracy: {acc}\")"
   ],
   "id": "2ca0833a92e3416c",
   "outputs": [
    {
     "name": "stdout",
     "output_type": "stream",
     "text": [
      "Accuracy: 0.8338342916884475\n"
     ]
    }
   ],
   "execution_count": 11
  },
  {
   "metadata": {
    "ExecuteTime": {
     "end_time": "2024-07-31T12:13:32.318047Z",
     "start_time": "2024-07-31T12:13:32.253862Z"
    }
   },
   "cell_type": "code",
   "source": "xgb_model.save_model('xgb_model_v1.json')",
   "id": "b1b5e8a10570f3c7",
   "outputs": [],
   "execution_count": 14
  }
 ],
 "metadata": {
  "kernelspec": {
   "display_name": "Python 3",
   "language": "python",
   "name": "python3"
  },
  "language_info": {
   "codemirror_mode": {
    "name": "ipython",
    "version": 2
   },
   "file_extension": ".py",
   "mimetype": "text/x-python",
   "name": "python",
   "nbconvert_exporter": "python",
   "pygments_lexer": "ipython2",
   "version": "2.7.6"
  }
 },
 "nbformat": 4,
 "nbformat_minor": 5
}
