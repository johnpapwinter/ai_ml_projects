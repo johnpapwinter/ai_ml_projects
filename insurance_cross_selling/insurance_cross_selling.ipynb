{
 "cells": [
  {
   "cell_type": "code",
   "id": "initial_id",
   "metadata": {
    "collapsed": true,
    "ExecuteTime": {
     "end_time": "2024-07-23T13:31:26.550412Z",
     "start_time": "2024-07-23T13:31:22.690520Z"
    }
   },
   "source": [
    "import logging\n",
    "import pandas as pd\n",
    "\n",
    "from sklearn.model_selection import train_test_split\n",
    "from sklearn.utils import resample\n",
    "from data_preprocessing import DataPreprocessor\n",
    "from model_classifier import CrossSellingModel\n",
    "from sklearn.utils.class_weight import compute_class_weight\n",
    "import numpy as np\n",
    "\n",
    "import logging_config\n",
    "\n",
    "from utils import load_df_from_zip\n",
    "\n",
    "logging_config.configure_logging()\n",
    "LOGGER = logging.getLogger(__name__)"
   ],
   "outputs": [],
   "execution_count": 1
  },
  {
   "metadata": {
    "ExecuteTime": {
     "end_time": "2024-07-23T13:31:39.286967Z",
     "start_time": "2024-07-23T13:31:26.552423Z"
    }
   },
   "cell_type": "code",
   "source": "train = load_df_from_zip('data/train.zip')",
   "id": "693554e0d90ed876",
   "outputs": [],
   "execution_count": 2
  },
  {
   "metadata": {
    "ExecuteTime": {
     "end_time": "2024-07-23T13:31:41.981877Z",
     "start_time": "2024-07-23T13:31:39.288825Z"
    }
   },
   "cell_type": "code",
   "source": [
    "X = train.drop('Response', axis=1)\n",
    "y = train['Response']\n",
    "\n",
    "majority_class_samples = 1415000\n",
    "df_undersampled_majority = resample(train[y==0], replace=False, n_samples=majority_class_samples, random_state=42)\n",
    "train = pd.concat([df_undersampled_majority, train[y==1]])"
   ],
   "id": "874b35586ac07a2c",
   "outputs": [],
   "execution_count": 3
  },
  {
   "metadata": {
    "ExecuteTime": {
     "end_time": "2024-07-23T13:31:45.126697Z",
     "start_time": "2024-07-23T13:31:41.985509Z"
    }
   },
   "cell_type": "code",
   "source": [
    "X = train.drop(columns='Response', axis=1)\n",
    "y = train['Response']\n",
    "\n",
    "preprocessor = DataPreprocessor(X)\n",
    "X = preprocessor.preprocess_data()\n",
    "# X = DataPreprocessor(X).preprocess_data()\n",
    "LOGGER.info(f\"X: {X.shape}\")"
   ],
   "id": "ba8ee15c42a09a06",
   "outputs": [
    {
     "name": "stdout",
     "output_type": "stream",
     "text": [
      "[2024-07-23 16:31:45,122 : INFO : X: (2830059, 15)]\n"
     ]
    }
   ],
   "execution_count": 4
  },
  {
   "metadata": {
    "ExecuteTime": {
     "end_time": "2024-07-23T13:31:45.716549Z",
     "start_time": "2024-07-23T13:31:45.127705Z"
    }
   },
   "cell_type": "code",
   "source": [
    "X_train, X_test, y_train, y_test = train_test_split(X, y, test_size=0.2, random_state=42, shuffle=True)\n",
    "LOGGER.info(f\"X_train.shape: {X_train.shape}\")\n",
    "LOGGER.info(f\"X_test.shape: {X_test.shape}\")\n",
    "LOGGER.info(f\"y_train.shape: {y_train.shape}\")\n",
    "LOGGER.info(f\"y_test.shape: {y_test.shape}\")"
   ],
   "id": "6da32992427c7572",
   "outputs": [
    {
     "name": "stdout",
     "output_type": "stream",
     "text": [
      "[2024-07-23 16:31:45,704 : INFO : X_train.shape: (2264047, 15)]\n",
      "[2024-07-23 16:31:45,705 : INFO : X_test.shape: (566012, 15)]\n",
      "[2024-07-23 16:31:45,707 : INFO : y_train.shape: (2264047,)]\n",
      "[2024-07-23 16:31:45,708 : INFO : y_test.shape: (566012,)]\n"
     ]
    }
   ],
   "execution_count": 5
  },
  {
   "metadata": {
    "ExecuteTime": {
     "end_time": "2024-07-23T13:31:45.726612Z",
     "start_time": "2024-07-23T13:31:45.721568Z"
    }
   },
   "cell_type": "code",
   "source": [
    "# # Convert y_train to numpy array\n",
    "# y_train_array = y_train.to_numpy()\n",
    "# \n",
    "# # Get unique classes\n",
    "# classes = np.unique(y_train_array)\n",
    "# \n",
    "# # Compute class weights\n",
    "# class_weights = compute_class_weight(class_weight='balanced', classes=classes, y=y_train_array)\n",
    "# \n",
    "# # Create dictionary of class weights\n",
    "# class_weight_dict = dict(zip(classes, class_weights))"
   ],
   "id": "cf17553e1fe959ca",
   "outputs": [],
   "execution_count": 6
  },
  {
   "metadata": {
    "ExecuteTime": {
     "end_time": "2024-07-23T13:31:45.738342Z",
     "start_time": "2024-07-23T13:31:45.730626Z"
    }
   },
   "cell_type": "code",
   "source": [
    "# print(class_weight_dict)\n",
    "# print(y_train.unique())\n",
    "# class_weight_dict = {int(k): v for k, v in class_weight_dict.items()}\n",
    "# print(class_weight_dict)\n",
    "# print(type(y_train))\n",
    "# y_train = y_train.reset_index(drop=True)\n",
    "# y_test = y_test.reset_index(drop=True)\n",
    "# \n",
    "# y_train = y_train.squeeze()\n",
    "# y_test = y_test.squeeze()\n",
    "# \n",
    "# y_train = y_train.to_numpy()\n",
    "# y_test = y_test.to_numpy()"
   ],
   "id": "3aa984a8b0def42d",
   "outputs": [],
   "execution_count": 7
  },
  {
   "metadata": {
    "jupyter": {
     "is_executing": true
    },
    "ExecuteTime": {
     "start_time": "2024-07-23T13:31:45.739350Z"
    }
   },
   "cell_type": "code",
   "source": [
    "classifier = CrossSellingModel(X.shape[1])\n",
    "# classifier.train_model(X_train, y_train, X_test, y_test, class_weights=class_weight_dict, epochs=10, batch_size=64)\n",
    "classifier.train_model(X_train, y_train, X_test, y_test, class_weights=None, epochs=10, batch_size=128)"
   ],
   "id": "3c8a51549b5a2efc",
   "outputs": [
    {
     "name": "stdout",
     "output_type": "stream",
     "text": [
      "Epoch 1/10\n"
     ]
    }
   ],
   "execution_count": null
  },
  {
   "metadata": {
    "jupyter": {
     "is_executing": true
    }
   },
   "cell_type": "code",
   "source": [
    "# test = load_df_from_zip('data/test.zip')\n",
    "# ids = test['id']\n",
    "# test_pr = preprocessor.preprocessor.transform(test)\n",
    "# # test = DataPreprocessor(test).preprocess_data(test)"
   ],
   "id": "58c2bc1cdfe639c7",
   "outputs": [],
   "execution_count": null
  },
  {
   "metadata": {
    "jupyter": {
     "is_executing": true
    }
   },
   "cell_type": "code",
   "source": [
    "# import pandas as pd\n",
    "# \n",
    "# predictions = classifier.get_predictions(test_pr, 0.5)\n",
    "# submission = pd.DataFrame({'id': ids, 'Response': predictions})\n",
    "# submission.to_csv('submission.csv', index=False)"
   ],
   "id": "f66ac07838d2e90a",
   "outputs": [],
   "execution_count": null
  },
  {
   "metadata": {
    "jupyter": {
     "is_executing": true
    }
   },
   "cell_type": "code",
   "source": "# classifier.save_model('cross_selling_model.keras')",
   "id": "490ee2f3e448b46c",
   "outputs": [],
   "execution_count": null
  }
 ],
 "metadata": {
  "kernelspec": {
   "display_name": "Python 3",
   "language": "python",
   "name": "python3"
  },
  "language_info": {
   "codemirror_mode": {
    "name": "ipython",
    "version": 2
   },
   "file_extension": ".py",
   "mimetype": "text/x-python",
   "name": "python",
   "nbconvert_exporter": "python",
   "pygments_lexer": "ipython2",
   "version": "2.7.6"
  }
 },
 "nbformat": 4,
 "nbformat_minor": 5
}
