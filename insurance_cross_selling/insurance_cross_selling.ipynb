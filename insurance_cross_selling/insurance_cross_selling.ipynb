{
 "cells": [
  {
   "cell_type": "code",
   "id": "initial_id",
   "metadata": {
    "collapsed": true,
    "ExecuteTime": {
     "end_time": "2024-07-14T06:59:37.036311Z",
     "start_time": "2024-07-14T06:58:33.490672Z"
    }
   },
   "source": [
    "from sklearn.model_selection import train_test_split\n",
    "\n",
    "from data_preprocessing import DataPreprocessor\n",
    "from model_classifier import CrossSellingModel"
   ],
   "outputs": [
    {
     "name": "stdout",
     "output_type": "stream",
     "text": [
      "[2024-07-14 09:59:12,361 : DEBUG : Falling back to TensorFlow client; we recommended you install the Cloud TPU client directly with pip install cloud-tpu-client.]\n",
      "[2024-07-14 09:59:21,257 : DEBUG : Creating converter from 7 to 5]\n",
      "[2024-07-14 09:59:21,262 : DEBUG : Creating converter from 5 to 7]\n",
      "[2024-07-14 09:59:21,262 : DEBUG : Creating converter from 7 to 5]\n",
      "[2024-07-14 09:59:21,267 : DEBUG : Creating converter from 5 to 7]\n"
     ]
    }
   ],
   "execution_count": 1
  },
  {
   "metadata": {
    "ExecuteTime": {
     "end_time": "2024-07-14T07:04:11.769939Z",
     "start_time": "2024-07-14T07:03:57.011716Z"
    }
   },
   "cell_type": "code",
   "source": "train_data = DataPreprocessor('data/train.zip')",
   "id": "90e8c90322c542b2",
   "outputs": [],
   "execution_count": 2
  },
  {
   "metadata": {},
   "cell_type": "code",
   "source": [
    "train = train_data.preprocess_data()\n",
    "train.head()"
   ],
   "id": "3c0d65a469adde05",
   "outputs": [],
   "execution_count": null
  },
  {
   "metadata": {
    "ExecuteTime": {
     "end_time": "2024-07-14T07:05:01.489327Z",
     "start_time": "2024-07-14T07:04:58.019019Z"
    }
   },
   "cell_type": "code",
   "source": [
    "X = train.drop(columns='Response', axis=1)\n",
    "y = train['Response']\n",
    "\n",
    "X_train, X_test, y_train, y_test = train_test_split(X, y, test_size=0.2, random_state=42)\n",
    "print(f\"X_train.shape: {X_train.shape}\")\n",
    "print(f\"y_train.shape: {y_train.shape}\")"
   ],
   "id": "6da32992427c7572",
   "outputs": [
    {
     "name": "stdout",
     "output_type": "stream",
     "text": [
      "X_train.shape: (9203838, 12)\n",
      "y_train.shape: (9203838,)\n"
     ]
    }
   ],
   "execution_count": 4
  },
  {
   "metadata": {
    "ExecuteTime": {
     "end_time": "2024-07-14T07:05:06.432785Z",
     "start_time": "2024-07-14T07:05:06.228165Z"
    }
   },
   "cell_type": "code",
   "source": "classifier = CrossSellingModel(X_train.shape[1])",
   "id": "3c8a51549b5a2efc",
   "outputs": [],
   "execution_count": 5
  },
  {
   "metadata": {
    "ExecuteTime": {
     "end_time": "2024-07-14T07:39:29.917419Z",
     "start_time": "2024-07-14T07:06:13.279465Z"
    }
   },
   "cell_type": "code",
   "source": "classifier.train_model(X_train, y_train, epochs=100, batch_size=128, validation_split=0.2)",
   "id": "29c1741ad956afd8",
   "outputs": [
    {
     "name": "stdout",
     "output_type": "stream",
     "text": [
      "Epoch 1/100\n",
      "\u001B[1m57524/57524\u001B[0m \u001B[32m━━━━━━━━━━━━━━━━━━━━\u001B[0m\u001B[37m\u001B[0m \u001B[1m93s\u001B[0m 2ms/step - accuracy: 0.8080 - loss: 14.7612 - val_accuracy: 0.8770 - val_loss: 0.3254\n",
      "Epoch 2/100\n",
      "\u001B[1m57524/57524\u001B[0m \u001B[32m━━━━━━━━━━━━━━━━━━━━\u001B[0m\u001B[37m\u001B[0m \u001B[1m123s\u001B[0m 2ms/step - accuracy: 0.8686 - loss: 0.3263 - val_accuracy: 0.8770 - val_loss: 0.3646\n",
      "Epoch 3/100\n",
      "\u001B[1m57524/57524\u001B[0m \u001B[32m━━━━━━━━━━━━━━━━━━━━\u001B[0m\u001B[37m\u001B[0m \u001B[1m135s\u001B[0m 2ms/step - accuracy: 0.8768 - loss: 0.3556 - val_accuracy: 0.8770 - val_loss: 0.2791\n",
      "Epoch 4/100\n",
      "\u001B[1m57524/57524\u001B[0m \u001B[32m━━━━━━━━━━━━━━━━━━━━\u001B[0m\u001B[37m\u001B[0m \u001B[1m133s\u001B[0m 2ms/step - accuracy: 0.8772 - loss: 0.2815 - val_accuracy: 0.8770 - val_loss: 0.2921\n",
      "Epoch 5/100\n",
      "\u001B[1m57524/57524\u001B[0m \u001B[32m━━━━━━━━━━━━━━━━━━━━\u001B[0m\u001B[37m\u001B[0m \u001B[1m157s\u001B[0m 2ms/step - accuracy: 0.8770 - loss: 0.2795 - val_accuracy: 0.8770 - val_loss: 0.2750\n",
      "Epoch 6/100\n",
      "\u001B[1m57524/57524\u001B[0m \u001B[32m━━━━━━━━━━━━━━━━━━━━\u001B[0m\u001B[37m\u001B[0m \u001B[1m143s\u001B[0m 2ms/step - accuracy: 0.8770 - loss: 0.2789 - val_accuracy: 0.8770 - val_loss: 0.2754\n",
      "Epoch 7/100\n",
      "\u001B[1m57524/57524\u001B[0m \u001B[32m━━━━━━━━━━━━━━━━━━━━\u001B[0m\u001B[37m\u001B[0m \u001B[1m110s\u001B[0m 2ms/step - accuracy: 0.8770 - loss: 0.2783 - val_accuracy: 0.8770 - val_loss: 0.2836\n",
      "Epoch 8/100\n",
      "\u001B[1m57524/57524\u001B[0m \u001B[32m━━━━━━━━━━━━━━━━━━━━\u001B[0m\u001B[37m\u001B[0m \u001B[1m192s\u001B[0m 3ms/step - accuracy: 0.8770 - loss: 0.2784 - val_accuracy: 0.8770 - val_loss: 0.2747\n",
      "Epoch 9/100\n",
      "\u001B[1m57524/57524\u001B[0m \u001B[32m━━━━━━━━━━━━━━━━━━━━\u001B[0m\u001B[37m\u001B[0m \u001B[1m136s\u001B[0m 2ms/step - accuracy: 0.8771 - loss: 0.2782 - val_accuracy: 0.8770 - val_loss: 0.2746\n",
      "Epoch 10/100\n",
      "\u001B[1m57524/57524\u001B[0m \u001B[32m━━━━━━━━━━━━━━━━━━━━\u001B[0m\u001B[37m\u001B[0m \u001B[1m114s\u001B[0m 2ms/step - accuracy: 0.8771 - loss: 0.2781 - val_accuracy: 0.8770 - val_loss: 0.2819\n",
      "Epoch 11/100\n",
      "\u001B[1m57524/57524\u001B[0m \u001B[32m━━━━━━━━━━━━━━━━━━━━\u001B[0m\u001B[37m\u001B[0m \u001B[1m117s\u001B[0m 2ms/step - accuracy: 0.8769 - loss: 0.2773 - val_accuracy: 0.8770 - val_loss: 0.2745\n",
      "Epoch 12/100\n",
      "\u001B[1m57524/57524\u001B[0m \u001B[32m━━━━━━━━━━━━━━━━━━━━\u001B[0m\u001B[37m\u001B[0m \u001B[1m127s\u001B[0m 2ms/step - accuracy: 0.8771 - loss: 0.2781 - val_accuracy: 0.8770 - val_loss: 0.2860\n",
      "Epoch 13/100\n",
      "\u001B[1m57524/57524\u001B[0m \u001B[32m━━━━━━━━━━━━━━━━━━━━\u001B[0m\u001B[37m\u001B[0m \u001B[1m144s\u001B[0m 2ms/step - accuracy: 0.8770 - loss: 0.2774 - val_accuracy: 0.8770 - val_loss: 0.2818\n",
      "Epoch 14/100\n",
      "\u001B[1m57524/57524\u001B[0m \u001B[32m━━━━━━━━━━━━━━━━━━━━\u001B[0m\u001B[37m\u001B[0m \u001B[1m118s\u001B[0m 2ms/step - accuracy: 0.8771 - loss: 0.2767 - val_accuracy: 0.8770 - val_loss: 0.2753\n",
      "Epoch 15/100\n",
      "\u001B[1m57524/57524\u001B[0m \u001B[32m━━━━━━━━━━━━━━━━━━━━\u001B[0m\u001B[37m\u001B[0m \u001B[1m152s\u001B[0m 2ms/step - accuracy: 0.8769 - loss: 0.2758 - val_accuracy: 0.8770 - val_loss: 0.2756\n"
     ]
    }
   ],
   "execution_count": 6
  },
  {
   "metadata": {
    "ExecuteTime": {
     "end_time": "2024-07-14T07:47:25.424495Z",
     "start_time": "2024-07-14T07:47:17.397850Z"
    }
   },
   "cell_type": "code",
   "source": "test_data = DataPreprocessor('data/test.zip')",
   "id": "58c2bc1cdfe639c7",
   "outputs": [],
   "execution_count": 7
  },
  {
   "metadata": {
    "ExecuteTime": {
     "end_time": "2024-07-14T07:51:16.264232Z",
     "start_time": "2024-07-14T07:51:01.235067Z"
    }
   },
   "cell_type": "code",
   "source": [
    "import pandas as pd\n",
    "\n",
    "ids = test_data.df['id']\n",
    "test_df = test_data.preprocess_data()\n",
    "test_df.head()"
   ],
   "id": "a8c3a9e3c21db368",
   "outputs": [
    {
     "name": "stderr",
     "output_type": "stream",
     "text": [
      "C:\\Users\\johnp\\PycharmProjects\\ai_ml_projects\\insurance_cross_selling\\data_preprocessing.py:27: FutureWarning: Downcasting behavior in `replace` is deprecated and will be removed in a future version. To retain the old behavior, explicitly call `result.infer_objects(copy=False)`. To opt-in to the future behavior, set `pd.set_option('future.no_silent_downcasting', True)`\n",
      "  self.df['Gender'] = self.df['Gender'].replace({'Male': 0, 'Female': 1})\n",
      "C:\\Users\\johnp\\PycharmProjects\\ai_ml_projects\\insurance_cross_selling\\data_preprocessing.py:28: FutureWarning: Downcasting behavior in `replace` is deprecated and will be removed in a future version. To retain the old behavior, explicitly call `result.infer_objects(copy=False)`. To opt-in to the future behavior, set `pd.set_option('future.no_silent_downcasting', True)`\n",
      "  self.df = self.df.replace({col: {True: 1, False: 0} for col in self.df.columns})\n"
     ]
    },
    {
     "data": {
      "text/plain": [
       "   Gender  Age  Region_Code  Previously_Insured  Annual_Premium  \\\n",
       "0       1   20         47.0                   0          2630.0   \n",
       "1       0   47         28.0                   0         37483.0   \n",
       "2       0   47         43.0                   0          2630.0   \n",
       "3       1   22         47.0                   1         24502.0   \n",
       "4       0   51         19.0                   0         34115.0   \n",
       "\n",
       "   Policy_Sales_Channel  Vintage  Vehicle_Age_1-2 Year  Vehicle_Age_< 1 Year  \\\n",
       "0                 160.0      228                     0                     1   \n",
       "1                 124.0      123                     1                     0   \n",
       "2                  26.0      271                     1                     0   \n",
       "3                 152.0      115                     0                     1   \n",
       "4                 124.0      148                     1                     0   \n",
       "\n",
       "   Vehicle_Age_> 2 Years  Vehicle_Damage_No  Vehicle_Damage_Yes  \n",
       "0                      0                  1                   0  \n",
       "1                      0                  0                   1  \n",
       "2                      0                  0                   1  \n",
       "3                      0                  1                   0  \n",
       "4                      0                  1                   0  "
      ],
      "text/html": [
       "<div>\n",
       "<style scoped>\n",
       "    .dataframe tbody tr th:only-of-type {\n",
       "        vertical-align: middle;\n",
       "    }\n",
       "\n",
       "    .dataframe tbody tr th {\n",
       "        vertical-align: top;\n",
       "    }\n",
       "\n",
       "    .dataframe thead th {\n",
       "        text-align: right;\n",
       "    }\n",
       "</style>\n",
       "<table border=\"1\" class=\"dataframe\">\n",
       "  <thead>\n",
       "    <tr style=\"text-align: right;\">\n",
       "      <th></th>\n",
       "      <th>Gender</th>\n",
       "      <th>Age</th>\n",
       "      <th>Region_Code</th>\n",
       "      <th>Previously_Insured</th>\n",
       "      <th>Annual_Premium</th>\n",
       "      <th>Policy_Sales_Channel</th>\n",
       "      <th>Vintage</th>\n",
       "      <th>Vehicle_Age_1-2 Year</th>\n",
       "      <th>Vehicle_Age_&lt; 1 Year</th>\n",
       "      <th>Vehicle_Age_&gt; 2 Years</th>\n",
       "      <th>Vehicle_Damage_No</th>\n",
       "      <th>Vehicle_Damage_Yes</th>\n",
       "    </tr>\n",
       "  </thead>\n",
       "  <tbody>\n",
       "    <tr>\n",
       "      <th>0</th>\n",
       "      <td>1</td>\n",
       "      <td>20</td>\n",
       "      <td>47.0</td>\n",
       "      <td>0</td>\n",
       "      <td>2630.0</td>\n",
       "      <td>160.0</td>\n",
       "      <td>228</td>\n",
       "      <td>0</td>\n",
       "      <td>1</td>\n",
       "      <td>0</td>\n",
       "      <td>1</td>\n",
       "      <td>0</td>\n",
       "    </tr>\n",
       "    <tr>\n",
       "      <th>1</th>\n",
       "      <td>0</td>\n",
       "      <td>47</td>\n",
       "      <td>28.0</td>\n",
       "      <td>0</td>\n",
       "      <td>37483.0</td>\n",
       "      <td>124.0</td>\n",
       "      <td>123</td>\n",
       "      <td>1</td>\n",
       "      <td>0</td>\n",
       "      <td>0</td>\n",
       "      <td>0</td>\n",
       "      <td>1</td>\n",
       "    </tr>\n",
       "    <tr>\n",
       "      <th>2</th>\n",
       "      <td>0</td>\n",
       "      <td>47</td>\n",
       "      <td>43.0</td>\n",
       "      <td>0</td>\n",
       "      <td>2630.0</td>\n",
       "      <td>26.0</td>\n",
       "      <td>271</td>\n",
       "      <td>1</td>\n",
       "      <td>0</td>\n",
       "      <td>0</td>\n",
       "      <td>0</td>\n",
       "      <td>1</td>\n",
       "    </tr>\n",
       "    <tr>\n",
       "      <th>3</th>\n",
       "      <td>1</td>\n",
       "      <td>22</td>\n",
       "      <td>47.0</td>\n",
       "      <td>1</td>\n",
       "      <td>24502.0</td>\n",
       "      <td>152.0</td>\n",
       "      <td>115</td>\n",
       "      <td>0</td>\n",
       "      <td>1</td>\n",
       "      <td>0</td>\n",
       "      <td>1</td>\n",
       "      <td>0</td>\n",
       "    </tr>\n",
       "    <tr>\n",
       "      <th>4</th>\n",
       "      <td>0</td>\n",
       "      <td>51</td>\n",
       "      <td>19.0</td>\n",
       "      <td>0</td>\n",
       "      <td>34115.0</td>\n",
       "      <td>124.0</td>\n",
       "      <td>148</td>\n",
       "      <td>1</td>\n",
       "      <td>0</td>\n",
       "      <td>0</td>\n",
       "      <td>1</td>\n",
       "      <td>0</td>\n",
       "    </tr>\n",
       "  </tbody>\n",
       "</table>\n",
       "</div>"
      ]
     },
     "execution_count": 9,
     "metadata": {},
     "output_type": "execute_result"
    }
   ],
   "execution_count": 9
  },
  {
   "metadata": {
    "ExecuteTime": {
     "end_time": "2024-07-14T07:58:52.067484Z",
     "start_time": "2024-07-14T07:53:48.704598Z"
    }
   },
   "cell_type": "code",
   "source": [
    "predictions = classifier.get_predictions(test_df, 0.5)\n",
    "submission = pd.DataFrame({'id': ids, 'Response': predictions})\n",
    "submission.to_csv('submission.csv', index=False)"
   ],
   "id": "f66ac07838d2e90a",
   "outputs": [
    {
     "name": "stdout",
     "output_type": "stream",
     "text": [
      "\u001B[1m239684/239684\u001B[0m \u001B[32m━━━━━━━━━━━━━━━━━━━━\u001B[0m\u001B[37m\u001B[0m \u001B[1m197s\u001B[0m 822us/step\n"
     ]
    }
   ],
   "execution_count": 11
  },
  {
   "metadata": {
    "ExecuteTime": {
     "end_time": "2024-07-14T07:59:32.550069Z",
     "start_time": "2024-07-14T07:59:32.521719Z"
    }
   },
   "cell_type": "code",
   "source": "classifier.save_model('cross_selling_model.keras')",
   "id": "490ee2f3e448b46c",
   "outputs": [],
   "execution_count": 13
  }
 ],
 "metadata": {
  "kernelspec": {
   "display_name": "Python 3",
   "language": "python",
   "name": "python3"
  },
  "language_info": {
   "codemirror_mode": {
    "name": "ipython",
    "version": 2
   },
   "file_extension": ".py",
   "mimetype": "text/x-python",
   "name": "python",
   "nbconvert_exporter": "python",
   "pygments_lexer": "ipython2",
   "version": "2.7.6"
  }
 },
 "nbformat": 4,
 "nbformat_minor": 5
}
