{
 "cells": [
  {
   "cell_type": "code",
   "execution_count": 1,
   "id": "initial_id",
   "metadata": {
    "collapsed": true,
    "ExecuteTime": {
     "end_time": "2024-03-31T11:41:16.713803Z",
     "start_time": "2024-03-31T11:40:11.112780Z"
    }
   },
   "outputs": [],
   "source": [
    "import os\n",
    "import pandas as pd\n",
    "import numpy as np\n",
    "\n",
    "from sklearn.model_selection import train_test_split\n",
    "\n",
    "from utils import *\n",
    "from gender_classifier_pipeline import GenderClassifierPipeline\n",
    "\n",
    "\n",
    "classifier_pipeline = GenderClassifierPipeline()"
   ]
  },
  {
   "cell_type": "code",
   "outputs": [],
   "source": [
    "zipped_dataset = get_zip_if_exists(os.getcwd())\n",
    "\n",
    "if zipped_dataset is not None:\n",
    "    dataset = load_df_from_zip(zipped_dataset)\n",
    "else:\n",
    "    dataset = pd.read_csv('C:\\\\Users\\\\johnp\\\\Downloads\\\\profiles.csv')\n",
    "    dataset = classifier_pipeline.get_data_pipeline().fit_transform(dataset)\n",
    "    save_df_to_zip(df=dataset, filename='ok_cupid')"
   ],
   "metadata": {
    "collapsed": false,
    "ExecuteTime": {
     "end_time": "2024-03-31T11:42:33.238995Z",
     "start_time": "2024-03-31T11:42:31.838394Z"
    }
   },
   "id": "20ce35805ac46d7",
   "execution_count": 7
  },
  {
   "cell_type": "code",
   "outputs": [],
   "source": [
    "X = dataset['text']\n",
    "y = dataset['sex']\n",
    "\n",
    "X_train, X_test, y_train, y_test = train_test_split(X, y, test_size=0.2, random_state=42)"
   ],
   "metadata": {
    "collapsed": false,
    "ExecuteTime": {
     "end_time": "2024-03-31T13:57:17.246853Z",
     "start_time": "2024-03-31T13:57:17.229652Z"
    }
   },
   "id": "2b1e2c05825292c1",
   "execution_count": 17
  },
  {
   "cell_type": "code",
   "outputs": [
    {
     "name": "stdout",
     "output_type": "stream",
     "text": [
      "[2024-03-31 17:07:41,284 : INFO : Best hyperparameters: {'model__n_estimators': 20, 'model__min_samples_split': 2, 'model__min_samples_leaf': 2, 'model__max_depth': None}]\n",
      "[2024-03-31 17:07:41,286 : INFO : Best score: 0.8107365567103478]\n"
     ]
    }
   ],
   "source": [
    "distributions = {\n",
    "    'model__n_estimators': np.arange(10, 101, 10),\n",
    "    'model__max_depth': [None] + list(np.arange(5, 21, 5)),\n",
    "    'model__min_samples_split': np.arange(2, 11),\n",
    "    'model__min_samples_leaf': np.arange(1, 5),\n",
    "}\n",
    "\n",
    "best_params = classifier_pipeline.fine_tune_pipeline(params=distributions, X_train=X_train, y_train=y_train)"
   ],
   "metadata": {
    "collapsed": false,
    "ExecuteTime": {
     "end_time": "2024-03-31T14:07:41.302454Z",
     "start_time": "2024-03-31T14:05:13.718024Z"
    }
   },
   "id": "68cd4396a3dfdb39",
   "execution_count": 20
  },
  {
   "cell_type": "code",
   "outputs": [
    {
     "name": "stdout",
     "output_type": "stream",
     "text": [
      "[2024-03-31 17:09:47,941 : INFO : Accuracy of model: 0.8302486986697513]\n",
      "[2024-03-31 17:09:47,943 : INFO : Confusion matrix of model: [[5647 1337]\n",
      " [1011 5837]]]\n",
      "[2024-03-31 17:09:47,945 : INFO : Classification Report of model:               precision    recall  f1-score   support\n",
      "\n",
      "           f       0.85      0.81      0.83      6984\n",
      "           m       0.81      0.85      0.83      6848\n",
      "\n",
      "    accuracy                           0.83     13832\n",
      "   macro avg       0.83      0.83      0.83     13832\n",
      "weighted avg       0.83      0.83      0.83     13832\n",
      "]\n"
     ]
    }
   ],
   "source": [
    "model_pipeline = classifier_pipeline.get_model_pipeline(params=best_params)\n",
    "model_pipeline.fit(X_train, y_train)\n",
    "y_pred = model_pipeline.predict(X_test)\n",
    "\n",
    "evaluate_prediction(y_test, y_pred)"
   ],
   "metadata": {
    "collapsed": false,
    "ExecuteTime": {
     "end_time": "2024-03-31T14:09:47.948561Z",
     "start_time": "2024-03-31T14:08:52.220056Z"
    }
   },
   "id": "45410466e4022307",
   "execution_count": 21
  },
  {
   "cell_type": "code",
   "outputs": [
    {
     "name": "stdout",
     "output_type": "stream",
     "text": [
      "[2024-03-31 17:16:13,069 : INFO : MODEL PIPELINE SUCCESSFULLY SAVED TO FILE: ok_cupid_gender_classifier]\n"
     ]
    }
   ],
   "source": [
    "classifier_pipeline.save_model_pipeline(model_pipeline=model_pipeline, \n",
    "                                        filename='ok_cupid_gender_classifier')"
   ],
   "metadata": {
    "collapsed": false,
    "ExecuteTime": {
     "end_time": "2024-03-31T14:16:13.072353Z",
     "start_time": "2024-03-31T14:16:12.497625Z"
    }
   },
   "id": "8b0accc5cbc62a9a",
   "execution_count": 23
  }
 ],
 "metadata": {
  "kernelspec": {
   "display_name": "Python 3",
   "language": "python",
   "name": "python3"
  },
  "language_info": {
   "codemirror_mode": {
    "name": "ipython",
    "version": 2
   },
   "file_extension": ".py",
   "mimetype": "text/x-python",
   "name": "python",
   "nbconvert_exporter": "python",
   "pygments_lexer": "ipython2",
   "version": "2.7.6"
  }
 },
 "nbformat": 4,
 "nbformat_minor": 5
}
